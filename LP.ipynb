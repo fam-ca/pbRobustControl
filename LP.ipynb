{
  "nbformat": 4,
  "nbformat_minor": 0,
  "metadata": {
    "colab": {
      "name": "Draft.ipynb",
      "provenance": [],
      "collapsed_sections": []
    },
    "kernelspec": {
      "name": "python3",
      "display_name": "Python 3"
    }
  },
  "cells": [
    {
      "cell_type": "markdown",
      "metadata": {
        "id": "jVGnBFgnbICs"
      },
      "source": [
        "# Imports"
      ]
    },
    {
      "cell_type": "code",
      "metadata": {
        "colab": {
          "base_uri": "https://localhost:8080/"
        },
        "id": "WJtLUHmjauCr",
        "outputId": "0e9952e6-f579-44ee-f21b-e5b7946ef9fd"
      },
      "source": [
        "# $ sudo CVXOPT_BUILD_GLPK=1 pip install cvxopt\r\n",
        "!CVXOPT_BUILD_GLPK=1 pip install cvxopt\r\n",
        "!pip install quadprog\r\n",
        "import cvxopt\r\n",
        "import quadprog\r\n",
        "\r\n",
        "import numpy as np\r\n",
        "from numpy import array, dot"
      ],
      "execution_count": null,
      "outputs": [
        {
          "output_type": "stream",
          "text": [
            "Requirement already satisfied: cvxopt in /usr/local/lib/python3.7/dist-packages (1.2.6)\n",
            "Collecting quadprog\n",
            "\u001b[?25l  Downloading https://files.pythonhosted.org/packages/31/c7/833d7b5b53fff5b9042803aa8096207d8e038ca42052f074d4ad8cddbfc5/quadprog-0.1.8.tar.gz (269kB)\n",
            "\u001b[K     |████████████████████████████████| 276kB 3.6MB/s \n",
            "\u001b[?25hRequirement already satisfied: Cython in /usr/local/lib/python3.7/dist-packages (from quadprog) (0.29.22)\n",
            "Building wheels for collected packages: quadprog\n",
            "  Building wheel for quadprog (setup.py) ... \u001b[?25l\u001b[?25hdone\n",
            "  Created wheel for quadprog: filename=quadprog-0.1.8-cp37-cp37m-linux_x86_64.whl size=336639 sha256=efedf7c8f9d3e4c914446aebb23a4bbc12daad9cf6ebc786f255b9614db48c0f\n",
            "  Stored in directory: /root/.cache/pip/wheels/0c/39/5f/c712b0e462439dec9b30080cf34622f167929b39bd964d8baf\n",
            "Successfully built quadprog\n",
            "Installing collected packages: quadprog\n",
            "Successfully installed quadprog-0.1.8\n"
          ],
          "name": "stdout"
        }
      ]
    },
    {
      "cell_type": "markdown",
      "metadata": {
        "id": "NiYfIsnobL5g"
      },
      "source": [
        "## CVXOPT"
      ]
    },
    {
      "cell_type": "code",
      "metadata": {
        "id": "6ylmSHYtX2JY"
      },
      "source": [
        "def cvxopt_solve_qp(P, q, G=None, h=None, A=None, b=None):\r\n",
        "    P = .5 * (P + P.T)  # make sure P is symmetric\r\n",
        "    args = [cvxopt.matrix(P), cvxopt.matrix(q)]\r\n",
        "    if G is not None:\r\n",
        "        args.extend([cvxopt.matrix(G), cvxopt.matrix(h)])\r\n",
        "        if A is not None:\r\n",
        "            args.extend([cvxopt.matrix(A), cvxopt.matrix(b)])\r\n",
        "    sol = cvxopt.solvers.qp(*args)\r\n",
        "    if 'optimal' not in sol['status']:\r\n",
        "        return None\r\n",
        "    return np.array(sol['x']).reshape((P.shape[1],))"
      ],
      "execution_count": null,
      "outputs": []
    },
    {
      "cell_type": "code",
      "metadata": {
        "id": "3KOZ02GBNAGb"
      },
      "source": [
        "M = array([[1., 2., 0.], [-8., 3., 2.], [0., 1., 1.]])\r\n",
        "P = dot(M.T, M)\r\n",
        "q = -dot(M.T, array([3., 2., 3.]))\r\n",
        "G = array([[1., 2., 1.], [2., 0., 1.], [-1., 2., -1.]])\r\n",
        "h = array([3., 2., -2.]).reshape((3,))"
      ],
      "execution_count": null,
      "outputs": []
    },
    {
      "cell_type": "code",
      "metadata": {
        "colab": {
          "base_uri": "https://localhost:8080/"
        },
        "id": "ogvNKWa0XuKe",
        "outputId": "346e3459-5469-4feb-dd57-5711bdae2f24"
      },
      "source": [
        "cvxopt_solve_qp(P, q, G, h)"
      ],
      "execution_count": null,
      "outputs": [
        {
          "output_type": "stream",
          "text": [
            "     pcost       dcost       gap    pres   dres\n",
            " 0: -1.0062e+01 -8.2131e+00  3e+00  8e-01  6e-17\n",
            " 1: -8.9877e+00 -7.1656e+00  6e-01  3e-01  2e-16\n",
            " 2: -4.7428e+00 -5.6786e+00  9e-01  1e-16  2e-15\n",
            " 3: -5.5832e+00 -5.5940e+00  1e-02  1e-16  2e-16\n",
            " 4: -5.5921e+00 -5.5922e+00  1e-04  0e+00  9e-17\n",
            " 5: -5.5922e+00 -5.5922e+00  1e-06  1e-16  2e-16\n",
            "Optimal solution found.\n"
          ],
          "name": "stdout"
        },
        {
          "output_type": "execute_result",
          "data": {
            "text/plain": [
              "array([ 0.12997344, -0.06498685,  1.74005307])"
            ]
          },
          "metadata": {
            "tags": []
          },
          "execution_count": 4
        }
      ]
    },
    {
      "cell_type": "markdown",
      "metadata": {
        "id": "8ECDElQ6bQEO"
      },
      "source": [
        "## QUADPROG"
      ]
    },
    {
      "cell_type": "code",
      "metadata": {
        "id": "NvdE00U2aCGC"
      },
      "source": [
        "def quadprog_solve_qp(P, q, G=None, h=None, A=None, b=None):\r\n",
        "    qp_G = .5 * (P + P.T)   # make sure P is symmetric\r\n",
        "    qp_a = -q\r\n",
        "    if A is not None:\r\n",
        "        qp_C = -numpy.vstack([A, G]).T\r\n",
        "        qp_b = -numpy.hstack([b, h])\r\n",
        "        meq = A.shape[0]\r\n",
        "    else:  # no equality constraint\r\n",
        "        qp_C = -G.T\r\n",
        "        qp_b = -h\r\n",
        "        meq = 0\r\n",
        "    return quadprog.solve_qp(qp_G, qp_a, qp_C, qp_b, meq)[0]"
      ],
      "execution_count": null,
      "outputs": []
    },
    {
      "cell_type": "code",
      "metadata": {
        "id": "qjF8RtHMaKbB"
      },
      "source": [
        "M = array([[1., 2., 0.], [-8., 3., 2.], [0., 1., 1.]])\r\n",
        "P = dot(M.T, M)\r\n",
        "q = -dot(M.T, array([3., 2., 3.]))\r\n",
        "G = array([[1., 2., 1.], [2., 0., 1.], [-1., 2., -1.]])\r\n",
        "h = array([3., 2., -2.]).reshape((3,))"
      ],
      "execution_count": null,
      "outputs": []
    },
    {
      "cell_type": "code",
      "metadata": {
        "colab": {
          "base_uri": "https://localhost:8080/"
        },
        "id": "vkHAq1UsaP0j",
        "outputId": "8dbfc4ea-4363-4c8e-9cd1-daefeefac792"
      },
      "source": [
        "quadprog_solve_qp(P, q, G, h)"
      ],
      "execution_count": null,
      "outputs": [
        {
          "output_type": "execute_result",
          "data": {
            "text/plain": [
              "array([ 0.12997347, -0.06498674,  1.74005305])"
            ]
          },
          "metadata": {
            "tags": []
          },
          "execution_count": 7
        }
      ]
    },
    {
      "cell_type": "markdown",
      "metadata": {
        "id": "9eLWEGwRcLqD"
      },
      "source": [
        "# For LP the following function may be used\r\n",
        "\r\n",
        "`scipy.optimize.linprog(c, A_ub=None, b_ub=None, A_eq=None, b_eq=None, bounds=None, method='simplex', callback=None, options={'maxiter': 5000, 'disp': False, 'presolve': True, 'tol': 1e-12, 'autoscale': False, 'rr': True, 'bland': False}, x0=None)`\r\n",
        "\r\n",
        "\r\n",
        "\r\n",
        "\r\n"
      ]
    },
    {
      "cell_type": "code",
      "metadata": {
        "id": "Kp4Iru-dFwN8"
      },
      "source": [
        "from scipy.optimize import linprog\r\n",
        "import numpy as np\r\n",
        "import matplotlib.pyplot as plt"
      ],
      "execution_count": null,
      "outputs": []
    },
    {
      "cell_type": "code",
      "metadata": {
        "id": "rlBYUACeaTVh",
        "colab": {
          "base_uri": "https://localhost:8080/"
        },
        "outputId": "dd09f0b6-0a0f-4516-bfe3-95710df68152"
      },
      "source": [
        "c = [-1, 4]\r\n",
        "A = [[-3, 1], [1, 2]]\r\n",
        "b = [6, 4]\r\n",
        "x0_bounds = (None, None)\r\n",
        "x1_bounds = (-3, None)\r\n",
        "\r\n",
        "res = linprog(c, A_ub=A, b_ub=b, bounds=[x0_bounds, x1_bounds])\r\n",
        "res"
      ],
      "execution_count": null,
      "outputs": [
        {
          "output_type": "stream",
          "text": [
            "/usr/local/lib/python3.7/dist-packages/numpy/core/fromnumeric.py:87: VisibleDeprecationWarning: Creating an ndarray from ragged nested sequences (which is a list-or-tuple of lists-or-tuples-or ndarrays with different lengths or shapes) is deprecated. If you meant to do this, you must specify 'dtype=object' when creating the ndarray\n",
            "  return ufunc.reduce(obj, axis, dtype, out, **passkwargs)\n"
          ],
          "name": "stderr"
        },
        {
          "output_type": "execute_result",
          "data": {
            "text/plain": [
              "     con: array([], dtype=float64)\n",
              "     fun: -21.999999840824927\n",
              " message: 'Optimization terminated successfully.'\n",
              "     nit: 6\n",
              "   slack: array([3.89999997e+01, 8.46872599e-08])\n",
              "  status: 0\n",
              " success: True\n",
              "       x: array([ 9.99999989, -2.99999999])"
            ]
          },
          "metadata": {
            "tags": []
          },
          "execution_count": 9
        }
      ]
    },
    {
      "cell_type": "code",
      "metadata": {
        "colab": {
          "base_uri": "https://localhost:8080/",
          "height": 436
        },
        "id": "YdP4QwOhFj2c",
        "outputId": "5a856b96-4a38-471b-d302-81c221a399cc"
      },
      "source": [
        "p1_min = -1\r\n",
        "p1_max =  5\r\n",
        "\r\n",
        "p2_min = -0.1\r\n",
        "p2_max =  1\r\n",
        "\r\n",
        "p1_rng = np.array([p1_max, p1_max, p1_min, p1_min, p1_max])\r\n",
        "p2_rng = np.array([p2_max, p2_min, p2_min, p2_max, p2_max])\r\n",
        "z = np.array([-1, 4])\r\n",
        "\r\n",
        "res = linprog(z, \r\n",
        "              bounds=[ (p1_min,p1_max), (p2_min,p2_max) ],\r\n",
        "              method='revised simplex')\r\n",
        "\r\n",
        "print(res)\r\n",
        "print(f\" Vector z: {z}\")\r\n",
        "\r\n",
        "plt.axes(xlabel='$p_1$', ylabel='$p_2$', xlim=(-6,6))\r\n",
        "plt.axhline(c='k', linestyle='--', linewidth=1)\r\n",
        "plt.axvline(c='k', linestyle='--', linewidth=1)\r\n",
        "\r\n",
        "plt.plot(np.array([0, res.x[0]]), np.array([0, res.x[1]]), label='Solution' )\r\n",
        "plt.plot(p1_rng, p2_rng, label='Range of $p_1$ and $p_2$')\r\n",
        "plt.plot(np.array([0, z[0]]), np.array([0, z[1]]), label='Vector $z$' )\r\n",
        "plt.legend()\r\n",
        "plt.show()"
      ],
      "execution_count": null,
      "outputs": [
        {
          "output_type": "stream",
          "text": [
            "     con: array([], dtype=float64)\n",
            "     fun: -5.4\n",
            " message: 'The solution was determined in presolve as there are no non-trivial constraints.'\n",
            "     nit: 0\n",
            "   slack: array([], dtype=float64)\n",
            "  status: 0\n",
            " success: True\n",
            "       x: array([ 5. , -0.1])\n",
            " Vector z: [-1  4]\n"
          ],
          "name": "stdout"
        },
        {
          "output_type": "display_data",
          "data": {
            "image/png": "[encoded data removed]",
            "text/plain": [
              "<Figure size 432x288 with 1 Axes>"
            ]
          },
          "metadata": {
            "tags": [],
            "needs_background": "light"
          }
        }
      ]
    },
    {
      "cell_type": "code",
      "metadata": {
        "id": "Wrdmz1FUJFbb"
      },
      "source": [
        ""
      ],
      "execution_count": null,
      "outputs": []
    }
  ]
}